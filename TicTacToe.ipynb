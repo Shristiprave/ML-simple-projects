{
 "cells": [
  {
   "cell_type": "code",
   "execution_count": 1,
   "metadata": {},
   "outputs": [],
   "source": [
    "from easyAI import TwoPlayersGame , AI_Player , Negamax\n",
    "from easyAI import Human_Player"
   ]
  },
  {
   "cell_type": "code",
   "execution_count": 3,
   "metadata": {},
   "outputs": [
    {
     "name": "stdout",
     "output_type": "stream",
     "text": [
      "\n",
      ". . .\n",
      ". . .\n",
      ". . .\n",
      "\n",
      "Player 1 what do you play ? 1\n",
      "\n",
      "Move #1: player 1 plays 1 :\n",
      "\n",
      ". . .\n",
      ". . .\n",
      ". . .\n",
      "\n",
      "Move #2: player 2 plays 5 :\n",
      "\n",
      ". . .\n",
      "X X X\n",
      ". . .\n",
      "\n",
      "Player 1 what do you play ? 2\n",
      "\n",
      "Move #3: player 1 plays 2 :\n",
      "\n",
      "0 0 0\n",
      "X X X\n",
      ". . .\n",
      "\n",
      "Move #4: player 2 plays 3 :\n",
      "\n",
      "0 0 0\n",
      "X X X\n",
      ". . .\n",
      "\n",
      "Player 1 what do you play ? 4\n",
      "\n",
      "Move #5: player 1 plays 4 :\n",
      "\n",
      "0 0 0\n",
      "X X X\n",
      ". . .\n",
      "\n",
      "Move #6: player 2 plays 7 :\n",
      "\n",
      "0 0 0\n",
      "X X X\n",
      ". . .\n"
     ]
    }
   ],
   "source": [
    "class TicTacToe_Game(TwoPlayersGame):\n",
    "    def __init__(self,players):\n",
    "        \"\"\"Define the players and the player who is going to start the game\"\"\"\n",
    "        self.players = players\n",
    "        self.nplayer = 1\n",
    "        \n",
    "        #Define the type of board\n",
    "        self.board = [0]*9\n",
    "        \n",
    "    #method to calculate possible moves\n",
    "    def possible_moves(self):\n",
    "        return [x+1 for x,y in enumerate(self.board) if y==0]\n",
    "    \n",
    "#tracking move of a player\n",
    "    def make_move(self,move):\n",
    "        self.board[int(move)-1] = self.nplayer\n",
    "    \n",
    "#to boost AI when a player makes move\n",
    "    def unmake_move(self,move):\n",
    "        self.board[int(move)-1] = 0\n",
    "\n",
    "#define a losing condition\n",
    "    def condition_for_lose(self):\n",
    "        possible_combinations = [[1,2,3],[4,5,6],[7,8,9],[1,4,7],[2,5,8],[3,6,9],[1,5,9],[3,5,7]]\n",
    "        return any([all([(self.board[z-1] == self.nopponent)\n",
    "                    for z in combination]) for combination in possible_combinations])\n",
    "    \n",
    "#define a check condition for game over\n",
    "    def is_over(self):\n",
    "        return (self.possible_moves() == []) or self.condition_for_lose()\n",
    "\n",
    "#show current position of player\n",
    "    def show(self):\n",
    "        print('\\n' + '\\n'.join([' '.join([['.','0','X'][self.board[3*j +1]]\n",
    "                     for i in range(3)]) for j in range(3)]))\n",
    "    \n",
    "#lets compute scores\n",
    "    def scoring(self):\n",
    "        return -100 if self.condition_for_lose() else 0\n",
    "        \n",
    "        \n",
    "#define main method and start game\n",
    "if __name__ == \"__main__\":\n",
    "    algo = Negamax(7)\n",
    "    TicTacToe_Game([Human_Player(),AI_Player(algo)]).play()\n"
   ]
  },
  {
   "cell_type": "code",
   "execution_count": null,
   "metadata": {},
   "outputs": [],
   "source": []
  }
 ],
 "metadata": {
  "kernelspec": {
   "display_name": "Python 3",
   "language": "python",
   "name": "python3"
  },
  "language_info": {
   "codemirror_mode": {
    "name": "ipython",
    "version": 3
   },
   "file_extension": ".py",
   "mimetype": "text/x-python",
   "name": "python",
   "nbconvert_exporter": "python",
   "pygments_lexer": "ipython3",
   "version": "3.7.4"
  }
 },
 "nbformat": 4,
 "nbformat_minor": 2
}
